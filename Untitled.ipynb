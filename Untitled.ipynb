{
 "cells": [
  {
   "cell_type": "code",
   "execution_count": 7,
   "id": "77011859",
   "metadata": {},
   "outputs": [],
   "source": [
    "import pandas as pd\n",
    "import numpy as np\n",
    "import matplotlib.pyplot as plt"
   ]
  },
  {
   "cell_type": "code",
   "execution_count": 18,
   "id": "466e5395",
   "metadata": {},
   "outputs": [
    {
     "data": {
      "text/html": [
       "<div>\n",
       "<style scoped>\n",
       "    .dataframe tbody tr th:only-of-type {\n",
       "        vertical-align: middle;\n",
       "    }\n",
       "\n",
       "    .dataframe tbody tr th {\n",
       "        vertical-align: top;\n",
       "    }\n",
       "\n",
       "    .dataframe thead th {\n",
       "        text-align: right;\n",
       "    }\n",
       "</style>\n",
       "<table border=\"1\" class=\"dataframe\">\n",
       "  <thead>\n",
       "    <tr style=\"text-align: right;\">\n",
       "      <th></th>\n",
       "      <th>Open</th>\n",
       "      <th>High</th>\n",
       "      <th>Low</th>\n",
       "      <th>Close</th>\n",
       "      <th>Volume</th>\n",
       "    </tr>\n",
       "    <tr>\n",
       "      <th>Date</th>\n",
       "      <th></th>\n",
       "      <th></th>\n",
       "      <th></th>\n",
       "      <th></th>\n",
       "      <th></th>\n",
       "    </tr>\n",
       "  </thead>\n",
       "  <tbody>\n",
       "    <tr>\n",
       "      <th>2006-05-25</th>\n",
       "      <td>3.748967</td>\n",
       "      <td>4.283869</td>\n",
       "      <td>3.739664</td>\n",
       "      <td>4.279217</td>\n",
       "      <td>395343000</td>\n",
       "    </tr>\n",
       "    <tr>\n",
       "      <th>2006-05-26</th>\n",
       "      <td>4.307126</td>\n",
       "      <td>4.348058</td>\n",
       "      <td>4.103398</td>\n",
       "      <td>4.179680</td>\n",
       "      <td>103044000</td>\n",
       "    </tr>\n",
       "    <tr>\n",
       "      <th>2006-05-30</th>\n",
       "      <td>4.183400</td>\n",
       "      <td>4.184330</td>\n",
       "      <td>3.986184</td>\n",
       "      <td>4.093164</td>\n",
       "      <td>49898000</td>\n",
       "    </tr>\n",
       "    <tr>\n",
       "      <th>2006-05-31</th>\n",
       "      <td>4.125723</td>\n",
       "      <td>4.219679</td>\n",
       "      <td>4.125723</td>\n",
       "      <td>4.180608</td>\n",
       "      <td>30002000</td>\n",
       "    </tr>\n",
       "    <tr>\n",
       "      <th>2006-06-01</th>\n",
       "      <td>4.179678</td>\n",
       "      <td>4.474572</td>\n",
       "      <td>4.176887</td>\n",
       "      <td>4.419686</td>\n",
       "      <td>62344000</td>\n",
       "    </tr>\n",
       "    <tr>\n",
       "      <th>...</th>\n",
       "      <td>...</td>\n",
       "      <td>...</td>\n",
       "      <td>...</td>\n",
       "      <td>...</td>\n",
       "      <td>...</td>\n",
       "    </tr>\n",
       "    <tr>\n",
       "      <th>2021-10-05</th>\n",
       "      <td>347.121403</td>\n",
       "      <td>348.130138</td>\n",
       "      <td>342.497241</td>\n",
       "      <td>342.776886</td>\n",
       "      <td>4724100</td>\n",
       "    </tr>\n",
       "    <tr>\n",
       "      <th>2021-10-06</th>\n",
       "      <td>339.580960</td>\n",
       "      <td>348.439763</td>\n",
       "      <td>338.682072</td>\n",
       "      <td>348.250000</td>\n",
       "      <td>3712000</td>\n",
       "    </tr>\n",
       "    <tr>\n",
       "      <th>2021-10-07</th>\n",
       "      <td>349.000000</td>\n",
       "      <td>357.899994</td>\n",
       "      <td>349.000000</td>\n",
       "      <td>353.910004</td>\n",
       "      <td>3209200</td>\n",
       "    </tr>\n",
       "    <tr>\n",
       "      <th>2021-10-08</th>\n",
       "      <td>356.000000</td>\n",
       "      <td>360.369995</td>\n",
       "      <td>354.209991</td>\n",
       "      <td>354.959991</td>\n",
       "      <td>2336700</td>\n",
       "    </tr>\n",
       "    <tr>\n",
       "      <th>2021-10-11</th>\n",
       "      <td>353.950012</td>\n",
       "      <td>354.880005</td>\n",
       "      <td>346.899994</td>\n",
       "      <td>347.149994</td>\n",
       "      <td>2766800</td>\n",
       "    </tr>\n",
       "  </tbody>\n",
       "</table>\n",
       "<p>3872 rows × 5 columns</p>\n",
       "</div>"
      ],
      "text/plain": [
       "                  Open        High         Low       Close     Volume\n",
       "Date                                                                 \n",
       "2006-05-25    3.748967    4.283869    3.739664    4.279217  395343000\n",
       "2006-05-26    4.307126    4.348058    4.103398    4.179680  103044000\n",
       "2006-05-30    4.183400    4.184330    3.986184    4.093164   49898000\n",
       "2006-05-31    4.125723    4.219679    4.125723    4.180608   30002000\n",
       "2006-06-01    4.179678    4.474572    4.176887    4.419686   62344000\n",
       "...                ...         ...         ...         ...        ...\n",
       "2021-10-05  347.121403  348.130138  342.497241  342.776886    4724100\n",
       "2021-10-06  339.580960  348.439763  338.682072  348.250000    3712000\n",
       "2021-10-07  349.000000  357.899994  349.000000  353.910004    3209200\n",
       "2021-10-08  356.000000  360.369995  354.209991  354.959991    2336700\n",
       "2021-10-11  353.950012  354.880005  346.899994  347.149994    2766800\n",
       "\n",
       "[3872 rows x 5 columns]"
      ]
     },
     "execution_count": 18,
     "metadata": {},
     "output_type": "execute_result"
    }
   ],
   "source": [
    "df = pd.read_csv('Mastercard_stock_history.csv',index_col=\"Date\", parse_dates=[\"Date\"]).drop([\"Dividends\", \"Stock Splits\"], axis=1)\n",
    "df"
   ]
  },
  {
   "cell_type": "code",
   "execution_count": 19,
   "id": "1811d68e",
   "metadata": {},
   "outputs": [
    {
     "data": {
      "text/html": [
       "<div>\n",
       "<style scoped>\n",
       "    .dataframe tbody tr th:only-of-type {\n",
       "        vertical-align: middle;\n",
       "    }\n",
       "\n",
       "    .dataframe tbody tr th {\n",
       "        vertical-align: top;\n",
       "    }\n",
       "\n",
       "    .dataframe thead th {\n",
       "        text-align: right;\n",
       "    }\n",
       "</style>\n",
       "<table border=\"1\" class=\"dataframe\">\n",
       "  <thead>\n",
       "    <tr style=\"text-align: right;\">\n",
       "      <th></th>\n",
       "      <th>Open</th>\n",
       "      <th>High</th>\n",
       "      <th>Low</th>\n",
       "      <th>Close</th>\n",
       "      <th>Volume</th>\n",
       "    </tr>\n",
       "  </thead>\n",
       "  <tbody>\n",
       "    <tr>\n",
       "      <th>count</th>\n",
       "      <td>3872.000000</td>\n",
       "      <td>3872.000000</td>\n",
       "      <td>3872.000000</td>\n",
       "      <td>3872.000000</td>\n",
       "      <td>3.872000e+03</td>\n",
       "    </tr>\n",
       "    <tr>\n",
       "      <th>mean</th>\n",
       "      <td>104.896814</td>\n",
       "      <td>105.956054</td>\n",
       "      <td>103.769349</td>\n",
       "      <td>104.882714</td>\n",
       "      <td>1.232250e+07</td>\n",
       "    </tr>\n",
       "    <tr>\n",
       "      <th>std</th>\n",
       "      <td>106.245511</td>\n",
       "      <td>107.303589</td>\n",
       "      <td>105.050064</td>\n",
       "      <td>106.168693</td>\n",
       "      <td>1.759665e+07</td>\n",
       "    </tr>\n",
       "    <tr>\n",
       "      <th>min</th>\n",
       "      <td>3.748967</td>\n",
       "      <td>4.102467</td>\n",
       "      <td>3.739664</td>\n",
       "      <td>4.083861</td>\n",
       "      <td>6.411000e+05</td>\n",
       "    </tr>\n",
       "    <tr>\n",
       "      <th>25%</th>\n",
       "      <td>22.347203</td>\n",
       "      <td>22.637997</td>\n",
       "      <td>22.034458</td>\n",
       "      <td>22.300391</td>\n",
       "      <td>3.529475e+06</td>\n",
       "    </tr>\n",
       "    <tr>\n",
       "      <th>50%</th>\n",
       "      <td>70.810079</td>\n",
       "      <td>71.375896</td>\n",
       "      <td>70.224002</td>\n",
       "      <td>70.856083</td>\n",
       "      <td>5.891750e+06</td>\n",
       "    </tr>\n",
       "    <tr>\n",
       "      <th>75%</th>\n",
       "      <td>147.688448</td>\n",
       "      <td>148.645373</td>\n",
       "      <td>146.822013</td>\n",
       "      <td>147.688438</td>\n",
       "      <td>1.319775e+07</td>\n",
       "    </tr>\n",
       "    <tr>\n",
       "      <th>max</th>\n",
       "      <td>392.653890</td>\n",
       "      <td>400.521479</td>\n",
       "      <td>389.747812</td>\n",
       "      <td>394.685730</td>\n",
       "      <td>3.953430e+08</td>\n",
       "    </tr>\n",
       "  </tbody>\n",
       "</table>\n",
       "</div>"
      ],
      "text/plain": [
       "              Open         High          Low        Close        Volume\n",
       "count  3872.000000  3872.000000  3872.000000  3872.000000  3.872000e+03\n",
       "mean    104.896814   105.956054   103.769349   104.882714  1.232250e+07\n",
       "std     106.245511   107.303589   105.050064   106.168693  1.759665e+07\n",
       "min       3.748967     4.102467     3.739664     4.083861  6.411000e+05\n",
       "25%      22.347203    22.637997    22.034458    22.300391  3.529475e+06\n",
       "50%      70.810079    71.375896    70.224002    70.856083  5.891750e+06\n",
       "75%     147.688448   148.645373   146.822013   147.688438  1.319775e+07\n",
       "max     392.653890   400.521479   389.747812   394.685730  3.953430e+08"
      ]
     },
     "execution_count": 19,
     "metadata": {},
     "output_type": "execute_result"
    }
   ],
   "source": [
    "df.describe()"
   ]
  },
  {
   "cell_type": "code",
   "execution_count": 20,
   "id": "c212993b",
   "metadata": {},
   "outputs": [
    {
     "data": {
      "image/png": "[encoded data removed]",
      "text/plain": [
       "<Figure size 1152x288 with 1 Axes>"
      ]
     },
     "metadata": {
      "needs_background": "light"
     },
     "output_type": "display_data"
    }
   ],
   "source": [
    "tstart = 2016\n",
    "tend = 2020\n",
    "\n",
    "def train_test_plot(dataset, tstart, tend):\n",
    "    dataset.loc[f\"{tstart}\":f\"{tend}\", \"High\"].plot(figsize=(16, 4), legend=True)\n",
    "    dataset.loc[f\"{tend+1}\":, \"High\"].plot(figsize=(16, 4), legend=True)\n",
    "    plt.legend([f\"Train (Before {tend+1})\", f\"Test ({tend+1} and beyond)\"])\n",
    "    plt.title(\"MasterCard stock price\")\n",
    "    plt.show()\n",
    "\n",
    "train_test_plot(df,tstart,tend)"
   ]
  },
  {
   "cell_type": "code",
   "execution_count": 30,
   "id": "ad42ce7d",
   "metadata": {},
   "outputs": [
    {
     "data": {
      "text/plain": [
       "(1259,)"
      ]
     },
     "execution_count": 30,
     "metadata": {},
     "output_type": "execute_result"
    }
   ],
   "source": [
    "training_set = df.loc[f\"{tstart}\":f\"{tend}\", 'High'].values\n",
    "training_set.shape"
   ]
  },
  {
   "cell_type": "code",
   "execution_count": 31,
   "id": "479233a7",
   "metadata": {},
   "outputs": [
    {
     "data": {
      "text/plain": [
       "(195,)"
      ]
     },
     "execution_count": 31,
     "metadata": {},
     "output_type": "execute_result"
    }
   ],
   "source": [
    "test_set = df.loc[f\"{tend+1}\":,'High'].values\n",
    "test_set.shape"
   ]
  },
  {
   "cell_type": "code",
   "execution_count": 32,
   "id": "208a776e",
   "metadata": {},
   "outputs": [],
   "source": [
    "from sklearn.preprocessing import MinMaxScaler"
   ]
  },
  {
   "cell_type": "code",
   "execution_count": 33,
   "id": "836aefa2",
   "metadata": {},
   "outputs": [
    {
     "data": {
      "text/plain": [
       "array([[0.04611702],\n",
       "       [0.04692574],\n",
       "       [0.04271097],\n",
       "       ...,\n",
       "       [0.93713413],\n",
       "       [0.9686838 ],\n",
       "       [0.97421471]])"
      ]
     },
     "execution_count": 33,
     "metadata": {},
     "output_type": "execute_result"
    }
   ],
   "source": [
    "sc = MinMaxScaler(feature_range=(0, 1))\n",
    "training_set = training_set.reshape(-1, 1)\n",
    "training_set_scaled = sc.fit_transform(training_set)\n",
    "training_set_scaled"
   ]
  },
  {
   "cell_type": "code",
   "execution_count": 34,
   "id": "4cfd2d33",
   "metadata": {},
   "outputs": [
    {
     "data": {
      "text/plain": [
       "(1259, 1)"
      ]
     },
     "execution_count": 34,
     "metadata": {},
     "output_type": "execute_result"
    }
   ],
   "source": [
    "training_set_scaled.shape"
   ]
  },
  {
   "cell_type": "code",
   "execution_count": 76,
   "id": "7d61ba97",
   "metadata": {},
   "outputs": [],
   "source": [
    "X_train = []\n",
    "y_train = []\n",
    "n_steps = 60\n",
    "\n",
    "for i in range(len(training_set_scaled)):\n",
    "    start_idx = i\n",
    "    end_idx = start_idx + n_steps\n",
    "    if end_idx >= len(training_set_scaled):\n",
    "        break\n",
    "    \n",
    "    temp_X= training_set_scaled[start_idx:end_idx]\n",
    "    temp_y = training_set_scaled[end_idx]\n",
    "    \n",
    "    \n",
    "    X_train.append(temp_X)\n",
    "    y_train.append(temp_y)\n",
    "    "
   ]
  },
  {
   "cell_type": "code",
   "execution_count": 80,
   "id": "259e513b",
   "metadata": {},
   "outputs": [
    {
     "data": {
      "text/plain": [
       "(1199, 60, 1)"
      ]
     },
     "execution_count": 80,
     "metadata": {},
     "output_type": "execute_result"
    }
   ],
   "source": [
    "X_train = np.array(X_train)\n",
    "X_train.shape"
   ]
  },
  {
   "cell_type": "code",
   "execution_count": 81,
   "id": "1bcce240",
   "metadata": {},
   "outputs": [
    {
     "data": {
      "text/plain": [
       "(1199, 1)"
      ]
     },
     "execution_count": 81,
     "metadata": {},
     "output_type": "execute_result"
    }
   ],
   "source": [
    "y_train = np.array(y_train)\n",
    "y_train.shape"
   ]
  },
  {
   "cell_type": "code",
   "execution_count": 82,
   "id": "9835aaf1",
   "metadata": {},
   "outputs": [
    {
     "data": {
      "text/plain": [
       "array([[0.04456798],\n",
       "       [0.04851835],\n",
       "       [0.04848457],\n",
       "       ...,\n",
       "       [0.93713413],\n",
       "       [0.9686838 ],\n",
       "       [0.97421471]])"
      ]
     },
     "execution_count": 82,
     "metadata": {},
     "output_type": "execute_result"
    }
   ],
   "source": [
    "y_train"
   ]
  },
  {
   "cell_type": "code",
   "execution_count": 83,
   "id": "82227081",
   "metadata": {},
   "outputs": [],
   "source": [
    "from tensorflow.keras.models import Sequential\n",
    "from tensorflow.keras.layers import Dense, LSTM, Dropout, GRU, Bidirectional"
   ]
  },
  {
   "cell_type": "code",
   "execution_count": 84,
   "id": "8c05e0e7",
   "metadata": {},
   "outputs": [],
   "source": [
    "model = Sequential([\n",
    "    LSTM(units=125, activation=\"tanh\", input_shape=(n_steps, 1)),\n",
    "    Dense(units=1)\n",
    "])"
   ]
  },
  {
   "cell_type": "code",
   "execution_count": 86,
   "id": "fa142322",
   "metadata": {},
   "outputs": [],
   "source": [
    "model.compile(optimizer=\"RMSprop\", loss=\"mse\")"
   ]
  },
  {
   "cell_type": "code",
   "execution_count": 87,
   "id": "cce51433",
   "metadata": {},
   "outputs": [
    {
     "name": "stdout",
     "output_type": "stream",
     "text": [
      "Model: \"sequential\"\n",
      "_________________________________________________________________\n",
      " Layer (type)                Output Shape              Param #   \n",
      "=================================================================\n",
      " lstm (LSTM)                 (None, 125)               63500     \n",
      "                                                                 \n",
      " dense (Dense)               (None, 1)                 126       \n",
      "                                                                 \n",
      "=================================================================\n",
      "Total params: 63,626\n",
      "Trainable params: 63,626\n",
      "Non-trainable params: 0\n",
      "_________________________________________________________________\n"
     ]
    }
   ],
   "source": [
    "model.summary()"
   ]
  },
  {
   "cell_type": "code",
   "execution_count": 88,
   "id": "9ec4c02a",
   "metadata": {
    "scrolled": true
   },
   "outputs": [
    {
     "name": "stdout",
     "output_type": "stream",
     "text": [
      "Epoch 1/50\n",
      "38/38 [==============================] - 3s 35ms/step - loss: 0.0244\n",
      "Epoch 2/50\n",
      "38/38 [==============================] - 1s 32ms/step - loss: 0.0033\n",
      "Epoch 3/50\n",
      "38/38 [==============================] - 1s 33ms/step - loss: 0.0026\n",
      "Epoch 4/50\n",
      "38/38 [==============================] - 1s 38ms/step - loss: 0.0020\n",
      "Epoch 5/50\n",
      "38/38 [==============================] - 2s 44ms/step - loss: 0.0016\n",
      "Epoch 6/50\n",
      "38/38 [==============================] - 1s 34ms/step - loss: 0.0012\n",
      "Epoch 7/50\n",
      "38/38 [==============================] - 1s 32ms/step - loss: 0.0012\n",
      "Epoch 8/50\n",
      "38/38 [==============================] - 1s 38ms/step - loss: 0.0010\n",
      "Epoch 9/50\n",
      "38/38 [==============================] - 2s 40ms/step - loss: 9.6773e-04\n",
      "Epoch 10/50\n",
      "38/38 [==============================] - 1s 39ms/step - loss: 8.9626e-04\n",
      "Epoch 11/50\n",
      "38/38 [==============================] - 2s 41ms/step - loss: 9.7926e-04\n",
      "Epoch 12/50\n",
      "38/38 [==============================] - 1s 38ms/step - loss: 8.5271e-04\n",
      "Epoch 13/50\n",
      "38/38 [==============================] - 2s 41ms/step - loss: 7.8004e-04\n",
      "Epoch 14/50\n",
      "38/38 [==============================] - 2s 40ms/step - loss: 7.2441e-04\n",
      "Epoch 15/50\n",
      "38/38 [==============================] - 2s 40ms/step - loss: 7.0231e-04\n",
      "Epoch 16/50\n",
      "38/38 [==============================] - 2s 43ms/step - loss: 6.6004e-04\n",
      "Epoch 17/50\n",
      "38/38 [==============================] - 2s 44ms/step - loss: 7.5146e-04\n",
      "Epoch 18/50\n",
      "38/38 [==============================] - 2s 40ms/step - loss: 6.0556e-04\n",
      "Epoch 19/50\n",
      "38/38 [==============================] - 2s 49ms/step - loss: 6.3336e-04\n",
      "Epoch 20/50\n",
      "38/38 [==============================] - 2s 43ms/step - loss: 6.4770e-04\n",
      "Epoch 21/50\n",
      "38/38 [==============================] - 2s 46ms/step - loss: 4.8567e-04\n",
      "Epoch 22/50\n",
      "38/38 [==============================] - 1s 38ms/step - loss: 6.4388e-04\n",
      "Epoch 23/50\n",
      "38/38 [==============================] - 2s 43ms/step - loss: 5.2296e-04\n",
      "Epoch 24/50\n",
      "38/38 [==============================] - 2s 46ms/step - loss: 6.4916e-04\n",
      "Epoch 25/50\n",
      "38/38 [==============================] - 2s 45ms/step - loss: 5.3153e-04\n",
      "Epoch 26/50\n",
      "38/38 [==============================] - 2s 45ms/step - loss: 5.3595e-04\n",
      "Epoch 27/50\n",
      "38/38 [==============================] - 2s 44ms/step - loss: 4.5338e-04\n",
      "Epoch 28/50\n",
      "38/38 [==============================] - 2s 50ms/step - loss: 5.5617e-04\n",
      "Epoch 29/50\n",
      "38/38 [==============================] - 1s 36ms/step - loss: 4.4053e-04\n",
      "Epoch 30/50\n",
      "38/38 [==============================] - 2s 46ms/step - loss: 4.8667e-04\n",
      "Epoch 31/50\n",
      "38/38 [==============================] - 1s 35ms/step - loss: 5.0635e-04\n",
      "Epoch 32/50\n",
      "38/38 [==============================] - 2s 44ms/step - loss: 4.6361e-04\n",
      "Epoch 33/50\n",
      "38/38 [==============================] - 2s 54ms/step - loss: 4.8509e-04\n",
      "Epoch 34/50\n",
      "38/38 [==============================] - 2s 40ms/step - loss: 5.0726e-04\n",
      "Epoch 35/50\n",
      "38/38 [==============================] - 2s 43ms/step - loss: 3.6550e-04\n",
      "Epoch 36/50\n",
      "38/38 [==============================] - 2s 43ms/step - loss: 4.7891e-04\n",
      "Epoch 37/50\n",
      "38/38 [==============================] - 2s 42ms/step - loss: 4.4314e-04\n",
      "Epoch 38/50\n",
      "38/38 [==============================] - 2s 48ms/step - loss: 4.1853e-04\n",
      "Epoch 39/50\n",
      "38/38 [==============================] - 2s 46ms/step - loss: 4.4972e-04\n",
      "Epoch 40/50\n",
      "38/38 [==============================] - 2s 49ms/step - loss: 3.6698e-04\n",
      "Epoch 41/50\n",
      "38/38 [==============================] - 2s 48ms/step - loss: 4.5615e-04\n",
      "Epoch 42/50\n",
      "38/38 [==============================] - 2s 48ms/step - loss: 3.6663e-04\n",
      "Epoch 43/50\n",
      "38/38 [==============================] - 2s 53ms/step - loss: 4.0119e-04\n",
      "Epoch 44/50\n",
      "38/38 [==============================] - 2s 44ms/step - loss: 4.1336e-04\n",
      "Epoch 45/50\n",
      "38/38 [==============================] - 2s 58ms/step - loss: 3.9740e-04\n",
      "Epoch 46/50\n",
      "38/38 [==============================] - 2s 45ms/step - loss: 4.4746e-04\n",
      "Epoch 47/50\n",
      "38/38 [==============================] - 2s 43ms/step - loss: 3.6535e-04\n",
      "Epoch 48/50\n",
      "38/38 [==============================] - 2s 41ms/step - loss: 3.9744e-04\n",
      "Epoch 49/50\n",
      "38/38 [==============================] - 2s 45ms/step - loss: 3.8323e-04\n",
      "Epoch 50/50\n",
      "38/38 [==============================] - 2s 41ms/step - loss: 3.4302e-04\n"
     ]
    },
    {
     "data": {
      "text/plain": [
       "<keras.callbacks.History at 0x29f60019ee0>"
      ]
     },
     "execution_count": 88,
     "metadata": {},
     "output_type": "execute_result"
    }
   ],
   "source": [
    "model.fit(X_train, y_train, epochs=50)"
   ]
  },
  {
   "cell_type": "code",
   "execution_count": 89,
   "id": "4364386a",
   "metadata": {},
   "outputs": [
    {
     "data": {
      "text/plain": [
       "array([[0.04611702],\n",
       "       [0.04692574],\n",
       "       [0.04271097],\n",
       "       ...,\n",
       "       [0.93713413],\n",
       "       [0.9686838 ],\n",
       "       [0.97421471]])"
      ]
     },
     "execution_count": 89,
     "metadata": {},
     "output_type": "execute_result"
    }
   ],
   "source": [
    "test_set = test_set.reshape(-1, 1)\n",
    "test_set_scaled = sc.fit_transform(training_set)\n",
    "test_set_scaled"
   ]
  },
  {
   "cell_type": "code",
   "execution_count": 90,
   "id": "874181b0",
   "metadata": {},
   "outputs": [
    {
     "data": {
      "text/plain": [
       "(1259, 1)"
      ]
     },
     "execution_count": 90,
     "metadata": {},
     "output_type": "execute_result"
    }
   ],
   "source": [
    "test_set_scaled.shape"
   ]
  },
  {
   "cell_type": "code",
   "execution_count": 91,
   "id": "927bf6da",
   "metadata": {},
   "outputs": [],
   "source": [
    "X_test = []\n",
    "y_test = []\n",
    "n_steps = 60\n",
    "\n",
    "for i in range(len(test_set_scaled)):\n",
    "    start_idx = i\n",
    "    end_idx = start_idx + n_steps\n",
    "    if end_idx >= len(test_set_scaled):\n",
    "        break\n",
    "    \n",
    "    temp_X= test_set_scaled[start_idx:end_idx]\n",
    "    temp_y = test_set_scaled[end_idx]\n",
    "    \n",
    "    \n",
    "    X_test.append(temp_X)\n",
    "    y_test.append(temp_y)"
   ]
  },
  {
   "cell_type": "code",
   "execution_count": 93,
   "id": "9d610c43",
   "metadata": {},
   "outputs": [
    {
     "data": {
      "text/plain": [
       "(1199, 60, 1)"
      ]
     },
     "execution_count": 93,
     "metadata": {},
     "output_type": "execute_result"
    }
   ],
   "source": [
    "X_test = np.array(X_test)\n",
    "X_test.shape"
   ]
  },
  {
   "cell_type": "code",
   "execution_count": 94,
   "id": "ece20b1a",
   "metadata": {},
   "outputs": [
    {
     "data": {
      "text/plain": [
       "(1199, 1)"
      ]
     },
     "execution_count": 94,
     "metadata": {},
     "output_type": "execute_result"
    }
   ],
   "source": [
    "y_test = np.array(y_test)\n",
    "y_test.shape"
   ]
  },
  {
   "cell_type": "code",
   "execution_count": 95,
   "id": "50b8c06c",
   "metadata": {},
   "outputs": [],
   "source": [
    "y_pred = model.predict(X_test)"
   ]
  },
  {
   "cell_type": "code",
   "execution_count": 96,
   "id": "bdcdffa6",
   "metadata": {},
   "outputs": [
    {
     "data": {
      "text/plain": [
       "(1199, 1)"
      ]
     },
     "execution_count": 96,
     "metadata": {},
     "output_type": "execute_result"
    }
   ],
   "source": [
    "y_pred.shape"
   ]
  },
  {
   "cell_type": "code",
   "execution_count": 97,
   "id": "ff1dbdc4",
   "metadata": {},
   "outputs": [],
   "source": [
    "y_pred = sc.inverse_transform(y_pred)\n",
    "y_test = sc.inverse_transform(y_test)"
   ]
  },
  {
   "cell_type": "code",
   "execution_count": 98,
   "id": "92a92bd5",
   "metadata": {},
   "outputs": [],
   "source": [
    "def plot_predictions(test, predicted):\n",
    "    plt.plot(test, color=\"gray\", label=\"Real\")\n",
    "    plt.plot(predicted, color=\"red\", label=\"Predicted\")\n",
    "    plt.title(\"MasterCard Stock Price Prediction\")\n",
    "    plt.xlabel(\"Time\")\n",
    "    plt.ylabel(\"MasterCard Stock Price\")\n",
    "    plt.legend()\n",
    "    plt.show()"
   ]
  },
  {
   "cell_type": "code",
   "execution_count": 99,
   "id": "b22dff7c",
   "metadata": {},
   "outputs": [
    {
     "data": {
      "image/png": "[encoded data removed]",
      "text/plain": [
       "<Figure size 432x288 with 1 Axes>"
      ]
     },
     "metadata": {
      "needs_background": "light"
     },
     "output_type": "display_data"
    }
   ],
   "source": [
    "plot_predictions(y_test, y_pred)"
   ]
  },
  {
   "cell_type": "code",
   "execution_count": 103,
   "id": "73877953",
   "metadata": {},
   "outputs": [
    {
     "data": {
      "text/plain": [
       "56.68208532230372"
      ]
     },
     "execution_count": 103,
     "metadata": {},
     "output_type": "execute_result"
    }
   ],
   "source": [
    "from sklearn.metrics import mean_squared_error\n",
    "\n",
    "mean_squared_error(y_test, y_pred)"
   ]
  }
 ],
 "metadata": {
  "kernelspec": {
   "display_name": "Python 3 (ipykernel)",
   "language": "python",
   "name": "python3"
  },
  "language_info": {
   "codemirror_mode": {
    "name": "ipython",
    "version": 3
   },
   "file_extension": ".py",
   "mimetype": "text/x-python",
   "name": "python",
   "nbconvert_exporter": "python",
   "pygments_lexer": "ipython3",
   "version": "3.9.7"
  }
 },
 "nbformat": 4,
 "nbformat_minor": 5
}
